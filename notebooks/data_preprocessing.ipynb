{
 "cells": [
  {
   "cell_type": "code",
   "execution_count": null,
   "id": "4c99e37a-fe0e-424e-968e-e79e937a4498",
   "metadata": {},
   "outputs": [],
   "source": [
    "import numpy as np\n",
    "import awkward as ak\n",
    "import matplotlib.pyplot as plt"
   ]
  },
  {
   "cell_type": "code",
   "execution_count": null,
   "id": "a5f4f372-d217-4629-8773-4c7809a222ce",
   "metadata": {},
   "outputs": [],
   "source": [
    "file_path = \"/pscratch/sd/r/rmastand/particlemind/data/p8_ee_tt_ecm365_parquetfiles/reco_p8_ee_tt_ecm365_60000.parquet\"\n",
    "\n",
    "data = ak.from_parquet(file_path)"
   ]
  },
  {
   "cell_type": "code",
   "execution_count": null,
   "id": "3b615189-929d-4cf6-99f9-81b9dda7e69e",
   "metadata": {},
   "outputs": [],
   "source": [
    "print(data[\"calo_hit_features\"])"
   ]
  },
  {
   "cell_type": "code",
   "execution_count": null,
   "id": "91e31f81-9f2e-4746-91dd-7fab50dc65e1",
   "metadata": {},
   "outputs": [],
   "source": [
    "all_features = []\n",
    "\n",
    "for event_i in range(100):\n",
    "    calo_hit_features = data[\"calo_hit_features\"][event_i]\n",
    "\n",
    "    calo_hit_features = np.column_stack(\n",
    "        (\n",
    "            calo_hit_features[\"position.x\"].to_numpy() / 1e4,\n",
    "            calo_hit_features[\"position.y\"].to_numpy() / 1e4,\n",
    "            calo_hit_features[\"position.z\"].to_numpy() / 1e4,\n",
    "            np.log(calo_hit_features[\"energy\"].to_numpy() * 1e2) / 10,\n",
    "            calo_hit_features[\"type\"].to_numpy(),\n",
    "            calo_hit_features[\"subdetector\"].to_numpy(),\n",
    "        )\n",
    "    )\n",
    "    all_features.append(calo_hit_features)\n",
    "\n",
    "all_features = np.concatenate(all_features)\n",
    "print(all_features.shape)"
   ]
  },
  {
   "cell_type": "code",
   "execution_count": null,
   "id": "c5ee3b74-8519-4f29-9a31-70f33010e9f8",
   "metadata": {},
   "outputs": [],
   "source": [
    "labels = [\"x\", \"y\", \"z\", \"energy\", \"type\", \"subdetector\"]\n",
    "\n",
    "for i in range(6):\n",
    "\n",
    "    plt.figure()\n",
    "    plt.hist(all_features[:, i], bins=100, histtype=\"step\")\n",
    "    plt.xlabel(labels[i])\n",
    "    plt.show()"
   ]
  },
  {
   "cell_type": "code",
   "execution_count": null,
   "id": "d070aead-4b9f-459c-bd56-df74b360a07d",
   "metadata": {},
   "outputs": [],
   "source": []
  },
  {
   "cell_type": "code",
   "execution_count": null,
   "id": "22264792-bca3-4797-99cd-4eb2de20ff8b",
   "metadata": {},
   "outputs": [],
   "source": []
  },
  {
   "cell_type": "code",
   "execution_count": null,
   "id": "ca4c11af-b40e-4676-9ef0-6535c75afc08",
   "metadata": {},
   "outputs": [],
   "source": []
  }
 ],
 "metadata": {
  "kernelspec": {
   "display_name": "python3",
   "language": "python",
   "name": "python3"
  }
 },
 "nbformat": 4,
 "nbformat_minor": 5
}
